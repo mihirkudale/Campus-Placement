{
 "cells": [
  {
   "cell_type": "markdown",
   "id": "e3e8e365",
   "metadata": {},
   "source": [
    "## Subject Area\n",
    "##### This data set consists of Placement data of students in our campus. It includes ,\n",
    "1. secondary and higher secondary school percentage and specialization.\n",
    "2. degree specialization, type and Work experience and salary offers to the placed students"
   ]
  },
  {
   "cell_type": "markdown",
   "id": "e7db26c2",
   "metadata": {},
   "source": [
    "## Task: \n",
    "##### Supervised Machine Learning > Classification (binary) Problem\n",
    "\n",
    "## Metrics: \n",
    "##### LogLoss, Accuracy, ROC-AUC, Presicion, Recall, F1-Score"
   ]
  },
  {
   "cell_type": "markdown",
   "id": "8aff53b8",
   "metadata": {},
   "source": [
    "## Description About Data:\n",
    "This data set consists of Placement data of students in our campus. It includes secondary and higher secondary school percentage and specialization. It also includes degree specialization, type and Work experience and salary offers to the placed students\n",
    "\n",
    "Source: https://www.kaggle.com/benroshan/factors-affecting-campus-placement or\n",
    "\n",
    "https://www.kaggle.com/c/ml-with-python-course-project/data\n",
    "\n",
    "Attribute Information:\n",
    "sl_no Serial Number\n",
    "\n",
    "gender Gender- Male='M',Female='F'(male=0, female=1)\n",
    "\n",
    "ssc_p Secondary Education percentage- 10th Grade\n",
    "\n",
    "ssc_b Board of Education- Central/ Others\n",
    "\n",
    "hsc_p Higher Secondary Education percentage- 12th Grade\n",
    "\n",
    "hsc_b Board of Education- Central/ Others\n",
    "\n",
    "hsc_s Specialization in Higher Secondary Education\n",
    "\n",
    "degree_p Degree Percentage\n",
    "\n",
    "degree_t Under Graduation(Degree type)- Field of degree education\n",
    "\n",
    "workex Work Experience\n",
    "\n",
    "etest_p Employability test percentage ( conducted by college)\n",
    "\n",
    "specialisation Post Graduation(MBA)- Specialization\n",
    "\n",
    "mba_p MBA percentage\n",
    "\n",
    "status Status of placement- Placed/Not placed\n",
    "\n",
    "salary Salary offered by corporate to candidates\n",
    "\n"
   ]
  },
  {
   "cell_type": "markdown",
   "id": "cc83609f",
   "metadata": {},
   "source": [
    "## Topics to cover:\n",
    "1. Importing Libraries\n",
    "2. Importing Dataset\n",
    "3. Basic Questions to Ask from Data\n",
    "4. Data Cleaning\n",
    "5. Exploratory Data Analysis (EDA)\n",
    "6. Preprocessing or Feature Engineering\n",
    "7. Model Building\n",
    "8. Hyperparameter Tunning"
   ]
  },
  {
   "cell_type": "markdown",
   "id": "f84933c0",
   "metadata": {},
   "source": [
    "## 1. Importing Dependencies/Libraries"
   ]
  },
  {
   "cell_type": "markdown",
   "id": "1c47b56c",
   "metadata": {},
   "source": [
    "#### Data and Analysis"
   ]
  },
  {
   "cell_type": "code",
   "execution_count": 1,
   "id": "c0f476a3",
   "metadata": {},
   "outputs": [
    {
     "name": "stdout",
     "output_type": "stream",
     "text": [
      "Requirement already satisfied: missingno in c:\\users\\mihir\\anaconda3\\envs\\campusplacement\\lib\\site-packages (0.5.1)\n",
      "Requirement already satisfied: numpy in c:\\users\\mihir\\anaconda3\\envs\\campusplacement\\lib\\site-packages (from missingno) (1.24.0)\n",
      "Requirement already satisfied: scipy in c:\\users\\mihir\\anaconda3\\envs\\campusplacement\\lib\\site-packages (from missingno) (1.9.3)\n",
      "Requirement already satisfied: seaborn in c:\\users\\mihir\\anaconda3\\envs\\campusplacement\\lib\\site-packages (from missingno) (0.12.1)\n",
      "Requirement already satisfied: matplotlib in c:\\users\\mihir\\anaconda3\\envs\\campusplacement\\lib\\site-packages (from missingno) (3.6.2)\n",
      "Requirement already satisfied: packaging>=20.0 in c:\\users\\mihir\\anaconda3\\envs\\campusplacement\\lib\\site-packages (from matplotlib->missingno) (22.0)\n",
      "Requirement already satisfied: pyparsing>=2.2.1 in c:\\users\\mihir\\anaconda3\\envs\\campusplacement\\lib\\site-packages (from matplotlib->missingno) (3.0.9)\n",
      "Requirement already satisfied: contourpy>=1.0.1 in c:\\users\\mihir\\anaconda3\\envs\\campusplacement\\lib\\site-packages (from matplotlib->missingno) (1.0.6)\n",
      "Requirement already satisfied: kiwisolver>=1.0.1 in c:\\users\\mihir\\anaconda3\\envs\\campusplacement\\lib\\site-packages (from matplotlib->missingno) (1.4.4)\n",
      "Requirement already satisfied: cycler>=0.10 in c:\\users\\mihir\\anaconda3\\envs\\campusplacement\\lib\\site-packages (from matplotlib->missingno) (0.11.0)\n",
      "Requirement already satisfied: python-dateutil>=2.7 in c:\\users\\mihir\\anaconda3\\envs\\campusplacement\\lib\\site-packages (from matplotlib->missingno) (2.8.2)\n",
      "Requirement already satisfied: fonttools>=4.22.0 in c:\\users\\mihir\\anaconda3\\envs\\campusplacement\\lib\\site-packages (from matplotlib->missingno) (4.38.0)\n",
      "Requirement already satisfied: pillow>=6.2.0 in c:\\users\\mihir\\anaconda3\\envs\\campusplacement\\lib\\site-packages (from matplotlib->missingno) (9.3.0)\n",
      "Requirement already satisfied: pandas>=0.25 in c:\\users\\mihir\\anaconda3\\envs\\campusplacement\\lib\\site-packages (from seaborn->missingno) (1.5.2)\n",
      "Requirement already satisfied: pytz>=2020.1 in c:\\users\\mihir\\anaconda3\\envs\\campusplacement\\lib\\site-packages (from pandas>=0.25->seaborn->missingno) (2022.7)\n",
      "Requirement already satisfied: six>=1.5 in c:\\users\\mihir\\anaconda3\\envs\\campusplacement\\lib\\site-packages (from python-dateutil>=2.7->matplotlib->missingno) (1.16.0)\n"
     ]
    }
   ],
   "source": [
    "!pip install missingno"
   ]
  },
  {
   "cell_type": "code",
   "execution_count": 2,
   "id": "dcf45261",
   "metadata": {},
   "outputs": [],
   "source": [
    "import numpy as np\n",
    "import pandas as pd\n",
    "import missingno as msn\n",
    "from scipy import stats\n",
    "from scipy.stats import norm"
   ]
  },
  {
   "cell_type": "markdown",
   "id": "19291bdd",
   "metadata": {},
   "source": [
    "#### Visualization"
   ]
  },
  {
   "cell_type": "code",
   "execution_count": 3,
   "id": "ad918bd9",
   "metadata": {},
   "outputs": [],
   "source": [
    "import seaborn as sns\n",
    "import matplotlib.pyplot as plt\n",
    "import warnings\n",
    "warnings.filterwarnings(\"ignore\")"
   ]
  },
  {
   "cell_type": "markdown",
   "id": "2822803e",
   "metadata": {},
   "source": [
    "#### ML Libraries"
   ]
  },
  {
   "cell_type": "code",
   "execution_count": 4,
   "id": "252ac01a",
   "metadata": {},
   "outputs": [],
   "source": [
    "from sklearn import metrics\n",
    "import statsmodels.api as sm\n",
    "from sklearn import preprocessing\n",
    "from sklearn.model_selection import train_test_split\n",
    "from sklearn.linear_model import LogisticRegression\n",
    "from sklearn.metrics import confusion_matrix, classification_report\n",
    "from sklearn.ensemble import RandomForestClassifier, GradientBoostingClassifier, AdaBoostClassifier"
   ]
  },
  {
   "cell_type": "markdown",
   "id": "cec7bbd0",
   "metadata": {},
   "source": [
    "## 2. Data Importing"
   ]
  },
  {
   "cell_type": "code",
   "execution_count": 5,
   "id": "3950e9f8",
   "metadata": {},
   "outputs": [
    {
     "data": {
      "text/html": [
       "<div>\n",
       "<style scoped>\n",
       "    .dataframe tbody tr th:only-of-type {\n",
       "        vertical-align: middle;\n",
       "    }\n",
       "\n",
       "    .dataframe tbody tr th {\n",
       "        vertical-align: top;\n",
       "    }\n",
       "\n",
       "    .dataframe thead th {\n",
       "        text-align: right;\n",
       "    }\n",
       "</style>\n",
       "<table border=\"1\" class=\"dataframe\">\n",
       "  <thead>\n",
       "    <tr style=\"text-align: right;\">\n",
       "      <th></th>\n",
       "      <th>sl_no</th>\n",
       "      <th>gender</th>\n",
       "      <th>ssc_p</th>\n",
       "      <th>ssc_b</th>\n",
       "      <th>hsc_p</th>\n",
       "      <th>hsc_b</th>\n",
       "      <th>hsc_s</th>\n",
       "      <th>degree_p</th>\n",
       "      <th>degree_t</th>\n",
       "      <th>workex</th>\n",
       "      <th>etest_p</th>\n",
       "      <th>specialisation</th>\n",
       "      <th>mba_p</th>\n",
       "      <th>status</th>\n",
       "      <th>salary</th>\n",
       "    </tr>\n",
       "  </thead>\n",
       "  <tbody>\n",
       "    <tr>\n",
       "      <th>0</th>\n",
       "      <td>1</td>\n",
       "      <td>M</td>\n",
       "      <td>67.00</td>\n",
       "      <td>Others</td>\n",
       "      <td>91.00</td>\n",
       "      <td>Others</td>\n",
       "      <td>Commerce</td>\n",
       "      <td>58.00</td>\n",
       "      <td>Sci&amp;Tech</td>\n",
       "      <td>No</td>\n",
       "      <td>55.0</td>\n",
       "      <td>Mkt&amp;HR</td>\n",
       "      <td>58.80</td>\n",
       "      <td>Placed</td>\n",
       "      <td>270000.0</td>\n",
       "    </tr>\n",
       "    <tr>\n",
       "      <th>1</th>\n",
       "      <td>2</td>\n",
       "      <td>M</td>\n",
       "      <td>79.33</td>\n",
       "      <td>Central</td>\n",
       "      <td>78.33</td>\n",
       "      <td>Others</td>\n",
       "      <td>Science</td>\n",
       "      <td>77.48</td>\n",
       "      <td>Sci&amp;Tech</td>\n",
       "      <td>Yes</td>\n",
       "      <td>86.5</td>\n",
       "      <td>Mkt&amp;Fin</td>\n",
       "      <td>66.28</td>\n",
       "      <td>Placed</td>\n",
       "      <td>200000.0</td>\n",
       "    </tr>\n",
       "    <tr>\n",
       "      <th>2</th>\n",
       "      <td>3</td>\n",
       "      <td>M</td>\n",
       "      <td>65.00</td>\n",
       "      <td>Central</td>\n",
       "      <td>68.00</td>\n",
       "      <td>Central</td>\n",
       "      <td>Arts</td>\n",
       "      <td>64.00</td>\n",
       "      <td>Comm&amp;Mgmt</td>\n",
       "      <td>No</td>\n",
       "      <td>75.0</td>\n",
       "      <td>Mkt&amp;Fin</td>\n",
       "      <td>57.80</td>\n",
       "      <td>Placed</td>\n",
       "      <td>250000.0</td>\n",
       "    </tr>\n",
       "    <tr>\n",
       "      <th>3</th>\n",
       "      <td>4</td>\n",
       "      <td>M</td>\n",
       "      <td>56.00</td>\n",
       "      <td>Central</td>\n",
       "      <td>52.00</td>\n",
       "      <td>Central</td>\n",
       "      <td>Science</td>\n",
       "      <td>52.00</td>\n",
       "      <td>Sci&amp;Tech</td>\n",
       "      <td>No</td>\n",
       "      <td>66.0</td>\n",
       "      <td>Mkt&amp;HR</td>\n",
       "      <td>59.43</td>\n",
       "      <td>Not Placed</td>\n",
       "      <td>NaN</td>\n",
       "    </tr>\n",
       "    <tr>\n",
       "      <th>4</th>\n",
       "      <td>5</td>\n",
       "      <td>M</td>\n",
       "      <td>85.80</td>\n",
       "      <td>Central</td>\n",
       "      <td>73.60</td>\n",
       "      <td>Central</td>\n",
       "      <td>Commerce</td>\n",
       "      <td>73.30</td>\n",
       "      <td>Comm&amp;Mgmt</td>\n",
       "      <td>No</td>\n",
       "      <td>96.8</td>\n",
       "      <td>Mkt&amp;Fin</td>\n",
       "      <td>55.50</td>\n",
       "      <td>Placed</td>\n",
       "      <td>425000.0</td>\n",
       "    </tr>\n",
       "  </tbody>\n",
       "</table>\n",
       "</div>"
      ],
      "text/plain": [
       "   sl_no gender  ssc_p    ssc_b  hsc_p    hsc_b     hsc_s  degree_p  \\\n",
       "0      1      M  67.00   Others  91.00   Others  Commerce     58.00   \n",
       "1      2      M  79.33  Central  78.33   Others   Science     77.48   \n",
       "2      3      M  65.00  Central  68.00  Central      Arts     64.00   \n",
       "3      4      M  56.00  Central  52.00  Central   Science     52.00   \n",
       "4      5      M  85.80  Central  73.60  Central  Commerce     73.30   \n",
       "\n",
       "    degree_t workex  etest_p specialisation  mba_p      status    salary  \n",
       "0   Sci&Tech     No     55.0         Mkt&HR  58.80      Placed  270000.0  \n",
       "1   Sci&Tech    Yes     86.5        Mkt&Fin  66.28      Placed  200000.0  \n",
       "2  Comm&Mgmt     No     75.0        Mkt&Fin  57.80      Placed  250000.0  \n",
       "3   Sci&Tech     No     66.0         Mkt&HR  59.43  Not Placed       NaN  \n",
       "4  Comm&Mgmt     No     96.8        Mkt&Fin  55.50      Placed  425000.0  "
      ]
     },
     "execution_count": 5,
     "metadata": {},
     "output_type": "execute_result"
    }
   ],
   "source": [
    "#load the training data\n",
    "df=pd.read_csv('Placement_Data_Full_Class.csv')\n",
    "#first 5 rows\n",
    "df.head()"
   ]
  },
  {
   "cell_type": "markdown",
   "id": "6a383300",
   "metadata": {},
   "source": [
    "## 3. Basic Questions To Ask From Data?\n",
    "1. How does data looks like?\n",
    "2. What is size of Data?\n",
    "3. What are the features in data?\n",
    "4. Basic infromation about data (null values and data types)\n",
    "5. Duplicate values(rows) in data\n",
    "6. Statistical Description about Data\n",
    "7. Correlation among features\n",
    "8. Unique number of values in a particular feature"
   ]
  },
  {
   "cell_type": "markdown",
   "id": "14b7abc5",
   "metadata": {},
   "source": [
    "##### 1. How does data looks like?"
   ]
  },
  {
   "cell_type": "code",
   "execution_count": 6,
   "id": "6678d870",
   "metadata": {},
   "outputs": [
    {
     "data": {
      "text/html": [
       "<div>\n",
       "<style scoped>\n",
       "    .dataframe tbody tr th:only-of-type {\n",
       "        vertical-align: middle;\n",
       "    }\n",
       "\n",
       "    .dataframe tbody tr th {\n",
       "        vertical-align: top;\n",
       "    }\n",
       "\n",
       "    .dataframe thead th {\n",
       "        text-align: right;\n",
       "    }\n",
       "</style>\n",
       "<table border=\"1\" class=\"dataframe\">\n",
       "  <thead>\n",
       "    <tr style=\"text-align: right;\">\n",
       "      <th></th>\n",
       "      <th>sl_no</th>\n",
       "      <th>gender</th>\n",
       "      <th>ssc_p</th>\n",
       "      <th>ssc_b</th>\n",
       "      <th>hsc_p</th>\n",
       "      <th>hsc_b</th>\n",
       "      <th>hsc_s</th>\n",
       "      <th>degree_p</th>\n",
       "      <th>degree_t</th>\n",
       "      <th>workex</th>\n",
       "      <th>etest_p</th>\n",
       "      <th>specialisation</th>\n",
       "      <th>mba_p</th>\n",
       "      <th>status</th>\n",
       "      <th>salary</th>\n",
       "    </tr>\n",
       "  </thead>\n",
       "  <tbody>\n",
       "    <tr>\n",
       "      <th>200</th>\n",
       "      <td>201</td>\n",
       "      <td>M</td>\n",
       "      <td>69.00</td>\n",
       "      <td>Others</td>\n",
       "      <td>60.00</td>\n",
       "      <td>Others</td>\n",
       "      <td>Commerce</td>\n",
       "      <td>65.00</td>\n",
       "      <td>Comm&amp;Mgmt</td>\n",
       "      <td>No</td>\n",
       "      <td>87.55</td>\n",
       "      <td>Mkt&amp;Fin</td>\n",
       "      <td>52.81</td>\n",
       "      <td>Placed</td>\n",
       "      <td>300000.0</td>\n",
       "    </tr>\n",
       "    <tr>\n",
       "      <th>143</th>\n",
       "      <td>144</td>\n",
       "      <td>M</td>\n",
       "      <td>77.67</td>\n",
       "      <td>Others</td>\n",
       "      <td>64.89</td>\n",
       "      <td>Others</td>\n",
       "      <td>Commerce</td>\n",
       "      <td>70.67</td>\n",
       "      <td>Comm&amp;Mgmt</td>\n",
       "      <td>No</td>\n",
       "      <td>89.00</td>\n",
       "      <td>Mkt&amp;Fin</td>\n",
       "      <td>60.39</td>\n",
       "      <td>Placed</td>\n",
       "      <td>300000.0</td>\n",
       "    </tr>\n",
       "    <tr>\n",
       "      <th>43</th>\n",
       "      <td>44</td>\n",
       "      <td>M</td>\n",
       "      <td>87.00</td>\n",
       "      <td>Others</td>\n",
       "      <td>87.00</td>\n",
       "      <td>Others</td>\n",
       "      <td>Commerce</td>\n",
       "      <td>68.00</td>\n",
       "      <td>Comm&amp;Mgmt</td>\n",
       "      <td>No</td>\n",
       "      <td>95.00</td>\n",
       "      <td>Mkt&amp;HR</td>\n",
       "      <td>62.90</td>\n",
       "      <td>Placed</td>\n",
       "      <td>300000.0</td>\n",
       "    </tr>\n",
       "    <tr>\n",
       "      <th>9</th>\n",
       "      <td>10</td>\n",
       "      <td>M</td>\n",
       "      <td>58.00</td>\n",
       "      <td>Central</td>\n",
       "      <td>70.00</td>\n",
       "      <td>Central</td>\n",
       "      <td>Commerce</td>\n",
       "      <td>61.00</td>\n",
       "      <td>Comm&amp;Mgmt</td>\n",
       "      <td>No</td>\n",
       "      <td>54.00</td>\n",
       "      <td>Mkt&amp;Fin</td>\n",
       "      <td>52.21</td>\n",
       "      <td>Not Placed</td>\n",
       "      <td>NaN</td>\n",
       "    </tr>\n",
       "    <tr>\n",
       "      <th>152</th>\n",
       "      <td>153</td>\n",
       "      <td>F</td>\n",
       "      <td>75.40</td>\n",
       "      <td>Others</td>\n",
       "      <td>60.50</td>\n",
       "      <td>Central</td>\n",
       "      <td>Science</td>\n",
       "      <td>84.00</td>\n",
       "      <td>Sci&amp;Tech</td>\n",
       "      <td>No</td>\n",
       "      <td>98.00</td>\n",
       "      <td>Mkt&amp;Fin</td>\n",
       "      <td>65.25</td>\n",
       "      <td>Placed</td>\n",
       "      <td>240000.0</td>\n",
       "    </tr>\n",
       "  </tbody>\n",
       "</table>\n",
       "</div>"
      ],
      "text/plain": [
       "     sl_no gender  ssc_p    ssc_b  hsc_p    hsc_b     hsc_s  degree_p  \\\n",
       "200    201      M  69.00   Others  60.00   Others  Commerce     65.00   \n",
       "143    144      M  77.67   Others  64.89   Others  Commerce     70.67   \n",
       "43      44      M  87.00   Others  87.00   Others  Commerce     68.00   \n",
       "9       10      M  58.00  Central  70.00  Central  Commerce     61.00   \n",
       "152    153      F  75.40   Others  60.50  Central   Science     84.00   \n",
       "\n",
       "      degree_t workex  etest_p specialisation  mba_p      status    salary  \n",
       "200  Comm&Mgmt     No    87.55        Mkt&Fin  52.81      Placed  300000.0  \n",
       "143  Comm&Mgmt     No    89.00        Mkt&Fin  60.39      Placed  300000.0  \n",
       "43   Comm&Mgmt     No    95.00         Mkt&HR  62.90      Placed  300000.0  \n",
       "9    Comm&Mgmt     No    54.00        Mkt&Fin  52.21  Not Placed       NaN  \n",
       "152   Sci&Tech     No    98.00        Mkt&Fin  65.25      Placed  240000.0  "
      ]
     },
     "execution_count": 6,
     "metadata": {},
     "output_type": "execute_result"
    }
   ],
   "source": [
    "#How does data looks like? /sample 5 rows\n",
    "df.sample(5)"
   ]
  },
  {
   "cell_type": "markdown",
   "id": "c24104cd",
   "metadata": {},
   "source": [
    "##### 2. What is size of Data?"
   ]
  },
  {
   "cell_type": "code",
   "execution_count": 7,
   "id": "cca53dd5",
   "metadata": {},
   "outputs": [
    {
     "data": {
      "text/plain": [
       "(215, 15)"
      ]
     },
     "execution_count": 7,
     "metadata": {},
     "output_type": "execute_result"
    }
   ],
   "source": [
    "#What is size of Data? /shape of data\n",
    "df.shape\n",
    "#Observation-->rows=215, columns=15"
   ]
  },
  {
   "cell_type": "markdown",
   "id": "e6d71cbb",
   "metadata": {},
   "source": [
    "**we don't have much data!**"
   ]
  },
  {
   "cell_type": "markdown",
   "id": "601f7137",
   "metadata": {},
   "source": [
    "##### 3. What are the features in data?"
   ]
  },
  {
   "cell_type": "code",
   "execution_count": 8,
   "id": "1f854cff",
   "metadata": {},
   "outputs": [
    {
     "data": {
      "text/plain": [
       "Index(['sl_no', 'gender', 'ssc_p', 'ssc_b', 'hsc_p', 'hsc_b', 'hsc_s',\n",
       "       'degree_p', 'degree_t', 'workex', 'etest_p', 'specialisation', 'mba_p',\n",
       "       'status', 'salary'],\n",
       "      dtype='object')"
      ]
     },
     "execution_count": 8,
     "metadata": {},
     "output_type": "execute_result"
    }
   ],
   "source": [
    "#What are the features in data? /names of columns\n",
    "df.columns\n",
    "#Observation-->Column names aren't understandable, will change in data cleaning"
   ]
  },
  {
   "cell_type": "markdown",
   "id": "6690d7d2",
   "metadata": {},
   "source": [
    "##### 4. Basic infromation about data (null values and data types)"
   ]
  },
  {
   "cell_type": "code",
   "execution_count": 9,
   "id": "7a258a8c",
   "metadata": {},
   "outputs": [
    {
     "name": "stdout",
     "output_type": "stream",
     "text": [
      "<class 'pandas.core.frame.DataFrame'>\n",
      "RangeIndex: 215 entries, 0 to 214\n",
      "Data columns (total 15 columns):\n",
      " #   Column          Non-Null Count  Dtype  \n",
      "---  ------          --------------  -----  \n",
      " 0   sl_no           215 non-null    int64  \n",
      " 1   gender          215 non-null    object \n",
      " 2   ssc_p           215 non-null    float64\n",
      " 3   ssc_b           215 non-null    object \n",
      " 4   hsc_p           215 non-null    float64\n",
      " 5   hsc_b           215 non-null    object \n",
      " 6   hsc_s           215 non-null    object \n",
      " 7   degree_p        215 non-null    float64\n",
      " 8   degree_t        215 non-null    object \n",
      " 9   workex          215 non-null    object \n",
      " 10  etest_p         215 non-null    float64\n",
      " 11  specialisation  215 non-null    object \n",
      " 12  mba_p           215 non-null    float64\n",
      " 13  status          215 non-null    object \n",
      " 14  salary          148 non-null    float64\n",
      "dtypes: float64(6), int64(1), object(8)\n",
      "memory usage: 25.3+ KB\n"
     ]
    }
   ],
   "source": [
    "#basic information about data\n",
    "df.info()\n",
    "#Observation-->some null values"
   ]
  },
  {
   "cell_type": "code",
   "execution_count": 10,
   "id": "70e08df4",
   "metadata": {},
   "outputs": [
    {
     "data": {
      "text/plain": [
       "sl_no              0.00\n",
       "gender             0.00\n",
       "ssc_p              0.00\n",
       "ssc_b              0.00\n",
       "hsc_p              0.00\n",
       "hsc_b              0.00\n",
       "hsc_s              0.00\n",
       "degree_p           0.00\n",
       "degree_t           0.00\n",
       "workex             0.00\n",
       "etest_p            0.00\n",
       "specialisation     0.00\n",
       "mba_p              0.00\n",
       "status             0.00\n",
       "salary            31.16\n",
       "dtype: float64"
      ]
     },
     "execution_count": 10,
     "metadata": {},
     "output_type": "execute_result"
    }
   ],
   "source": [
    "#percent of null values\n",
    "np.round((df.isnull().sum()/df.shape[0])*100, 2)\n",
    "#Observation-->Salary column seems to have 30% null values, will handle missing values in Feuture Engineering"
   ]
  },
  {
   "cell_type": "markdown",
   "id": "2fc3c86a",
   "metadata": {},
   "source": [
    "##### 5. Duplicate values(rows) in data"
   ]
  },
  {
   "cell_type": "code",
   "execution_count": 11,
   "id": "6980bc96",
   "metadata": {},
   "outputs": [
    {
     "data": {
      "text/plain": [
       "0"
      ]
     },
     "execution_count": 11,
     "metadata": {},
     "output_type": "execute_result"
    }
   ],
   "source": [
    "#duplicates\n",
    "df.duplicated().sum()\n",
    "#Observation-->no duplicates in data"
   ]
  },
  {
   "cell_type": "markdown",
   "id": "1d8bb99a",
   "metadata": {},
   "source": [
    "##### 6. Statistical Description about Data"
   ]
  },
  {
   "cell_type": "code",
   "execution_count": 12,
   "id": "f732c770",
   "metadata": {},
   "outputs": [
    {
     "data": {
      "text/html": [
       "<div>\n",
       "<style scoped>\n",
       "    .dataframe tbody tr th:only-of-type {\n",
       "        vertical-align: middle;\n",
       "    }\n",
       "\n",
       "    .dataframe tbody tr th {\n",
       "        vertical-align: top;\n",
       "    }\n",
       "\n",
       "    .dataframe thead th {\n",
       "        text-align: right;\n",
       "    }\n",
       "</style>\n",
       "<table border=\"1\" class=\"dataframe\">\n",
       "  <thead>\n",
       "    <tr style=\"text-align: right;\">\n",
       "      <th></th>\n",
       "      <th>sl_no</th>\n",
       "      <th>ssc_p</th>\n",
       "      <th>hsc_p</th>\n",
       "      <th>degree_p</th>\n",
       "      <th>etest_p</th>\n",
       "      <th>mba_p</th>\n",
       "      <th>salary</th>\n",
       "    </tr>\n",
       "  </thead>\n",
       "  <tbody>\n",
       "    <tr>\n",
       "      <th>count</th>\n",
       "      <td>215.000000</td>\n",
       "      <td>215.000000</td>\n",
       "      <td>215.000000</td>\n",
       "      <td>215.000000</td>\n",
       "      <td>215.000000</td>\n",
       "      <td>215.000000</td>\n",
       "      <td>148.000000</td>\n",
       "    </tr>\n",
       "    <tr>\n",
       "      <th>mean</th>\n",
       "      <td>108.000000</td>\n",
       "      <td>67.303395</td>\n",
       "      <td>66.333163</td>\n",
       "      <td>66.370186</td>\n",
       "      <td>72.100558</td>\n",
       "      <td>62.278186</td>\n",
       "      <td>288655.405405</td>\n",
       "    </tr>\n",
       "    <tr>\n",
       "      <th>std</th>\n",
       "      <td>62.209324</td>\n",
       "      <td>10.827205</td>\n",
       "      <td>10.897509</td>\n",
       "      <td>7.358743</td>\n",
       "      <td>13.275956</td>\n",
       "      <td>5.833385</td>\n",
       "      <td>93457.452420</td>\n",
       "    </tr>\n",
       "    <tr>\n",
       "      <th>min</th>\n",
       "      <td>1.000000</td>\n",
       "      <td>40.890000</td>\n",
       "      <td>37.000000</td>\n",
       "      <td>50.000000</td>\n",
       "      <td>50.000000</td>\n",
       "      <td>51.210000</td>\n",
       "      <td>200000.000000</td>\n",
       "    </tr>\n",
       "    <tr>\n",
       "      <th>25%</th>\n",
       "      <td>54.500000</td>\n",
       "      <td>60.600000</td>\n",
       "      <td>60.900000</td>\n",
       "      <td>61.000000</td>\n",
       "      <td>60.000000</td>\n",
       "      <td>57.945000</td>\n",
       "      <td>240000.000000</td>\n",
       "    </tr>\n",
       "    <tr>\n",
       "      <th>50%</th>\n",
       "      <td>108.000000</td>\n",
       "      <td>67.000000</td>\n",
       "      <td>65.000000</td>\n",
       "      <td>66.000000</td>\n",
       "      <td>71.000000</td>\n",
       "      <td>62.000000</td>\n",
       "      <td>265000.000000</td>\n",
       "    </tr>\n",
       "    <tr>\n",
       "      <th>75%</th>\n",
       "      <td>161.500000</td>\n",
       "      <td>75.700000</td>\n",
       "      <td>73.000000</td>\n",
       "      <td>72.000000</td>\n",
       "      <td>83.500000</td>\n",
       "      <td>66.255000</td>\n",
       "      <td>300000.000000</td>\n",
       "    </tr>\n",
       "    <tr>\n",
       "      <th>max</th>\n",
       "      <td>215.000000</td>\n",
       "      <td>89.400000</td>\n",
       "      <td>97.700000</td>\n",
       "      <td>91.000000</td>\n",
       "      <td>98.000000</td>\n",
       "      <td>77.890000</td>\n",
       "      <td>940000.000000</td>\n",
       "    </tr>\n",
       "  </tbody>\n",
       "</table>\n",
       "</div>"
      ],
      "text/plain": [
       "            sl_no       ssc_p       hsc_p    degree_p     etest_p       mba_p  \\\n",
       "count  215.000000  215.000000  215.000000  215.000000  215.000000  215.000000   \n",
       "mean   108.000000   67.303395   66.333163   66.370186   72.100558   62.278186   \n",
       "std     62.209324   10.827205   10.897509    7.358743   13.275956    5.833385   \n",
       "min      1.000000   40.890000   37.000000   50.000000   50.000000   51.210000   \n",
       "25%     54.500000   60.600000   60.900000   61.000000   60.000000   57.945000   \n",
       "50%    108.000000   67.000000   65.000000   66.000000   71.000000   62.000000   \n",
       "75%    161.500000   75.700000   73.000000   72.000000   83.500000   66.255000   \n",
       "max    215.000000   89.400000   97.700000   91.000000   98.000000   77.890000   \n",
       "\n",
       "              salary  \n",
       "count     148.000000  \n",
       "mean   288655.405405  \n",
       "std     93457.452420  \n",
       "min    200000.000000  \n",
       "25%    240000.000000  \n",
       "50%    265000.000000  \n",
       "75%    300000.000000  \n",
       "max    940000.000000  "
      ]
     },
     "execution_count": 12,
     "metadata": {},
     "output_type": "execute_result"
    }
   ],
   "source": [
    "#Statistical Description(only for numerical features)\n",
    "df.describe()\n",
    "#Observation-->Salary column seems to have right outliers and missing values"
   ]
  },
  {
   "cell_type": "markdown",
   "id": "e68d4459",
   "metadata": {},
   "source": [
    "##### 7. Correlation among features"
   ]
  },
  {
   "cell_type": "code",
   "execution_count": 13,
   "id": "6d0fa2be",
   "metadata": {},
   "outputs": [
    {
     "data": {
      "text/html": [
       "<div>\n",
       "<style scoped>\n",
       "    .dataframe tbody tr th:only-of-type {\n",
       "        vertical-align: middle;\n",
       "    }\n",
       "\n",
       "    .dataframe tbody tr th {\n",
       "        vertical-align: top;\n",
       "    }\n",
       "\n",
       "    .dataframe thead th {\n",
       "        text-align: right;\n",
       "    }\n",
       "</style>\n",
       "<table border=\"1\" class=\"dataframe\">\n",
       "  <thead>\n",
       "    <tr style=\"text-align: right;\">\n",
       "      <th></th>\n",
       "      <th>sl_no</th>\n",
       "      <th>ssc_p</th>\n",
       "      <th>hsc_p</th>\n",
       "      <th>degree_p</th>\n",
       "      <th>etest_p</th>\n",
       "      <th>mba_p</th>\n",
       "      <th>salary</th>\n",
       "    </tr>\n",
       "  </thead>\n",
       "  <tbody>\n",
       "    <tr>\n",
       "      <th>sl_no</th>\n",
       "      <td>1.000000</td>\n",
       "      <td>-0.078155</td>\n",
       "      <td>-0.085711</td>\n",
       "      <td>-0.088281</td>\n",
       "      <td>0.063636</td>\n",
       "      <td>0.022327</td>\n",
       "      <td>0.063764</td>\n",
       "    </tr>\n",
       "    <tr>\n",
       "      <th>ssc_p</th>\n",
       "      <td>-0.078155</td>\n",
       "      <td>1.000000</td>\n",
       "      <td>0.511472</td>\n",
       "      <td>0.538404</td>\n",
       "      <td>0.261993</td>\n",
       "      <td>0.388478</td>\n",
       "      <td>0.035330</td>\n",
       "    </tr>\n",
       "    <tr>\n",
       "      <th>hsc_p</th>\n",
       "      <td>-0.085711</td>\n",
       "      <td>0.511472</td>\n",
       "      <td>1.000000</td>\n",
       "      <td>0.434206</td>\n",
       "      <td>0.245113</td>\n",
       "      <td>0.354823</td>\n",
       "      <td>0.076819</td>\n",
       "    </tr>\n",
       "    <tr>\n",
       "      <th>degree_p</th>\n",
       "      <td>-0.088281</td>\n",
       "      <td>0.538404</td>\n",
       "      <td>0.434206</td>\n",
       "      <td>1.000000</td>\n",
       "      <td>0.224470</td>\n",
       "      <td>0.402364</td>\n",
       "      <td>-0.019272</td>\n",
       "    </tr>\n",
       "    <tr>\n",
       "      <th>etest_p</th>\n",
       "      <td>0.063636</td>\n",
       "      <td>0.261993</td>\n",
       "      <td>0.245113</td>\n",
       "      <td>0.224470</td>\n",
       "      <td>1.000000</td>\n",
       "      <td>0.218055</td>\n",
       "      <td>0.178307</td>\n",
       "    </tr>\n",
       "    <tr>\n",
       "      <th>mba_p</th>\n",
       "      <td>0.022327</td>\n",
       "      <td>0.388478</td>\n",
       "      <td>0.354823</td>\n",
       "      <td>0.402364</td>\n",
       "      <td>0.218055</td>\n",
       "      <td>1.000000</td>\n",
       "      <td>0.175013</td>\n",
       "    </tr>\n",
       "    <tr>\n",
       "      <th>salary</th>\n",
       "      <td>0.063764</td>\n",
       "      <td>0.035330</td>\n",
       "      <td>0.076819</td>\n",
       "      <td>-0.019272</td>\n",
       "      <td>0.178307</td>\n",
       "      <td>0.175013</td>\n",
       "      <td>1.000000</td>\n",
       "    </tr>\n",
       "  </tbody>\n",
       "</table>\n",
       "</div>"
      ],
      "text/plain": [
       "             sl_no     ssc_p     hsc_p  degree_p   etest_p     mba_p    salary\n",
       "sl_no     1.000000 -0.078155 -0.085711 -0.088281  0.063636  0.022327  0.063764\n",
       "ssc_p    -0.078155  1.000000  0.511472  0.538404  0.261993  0.388478  0.035330\n",
       "hsc_p    -0.085711  0.511472  1.000000  0.434206  0.245113  0.354823  0.076819\n",
       "degree_p -0.088281  0.538404  0.434206  1.000000  0.224470  0.402364 -0.019272\n",
       "etest_p   0.063636  0.261993  0.245113  0.224470  1.000000  0.218055  0.178307\n",
       "mba_p     0.022327  0.388478  0.354823  0.402364  0.218055  1.000000  0.175013\n",
       "salary    0.063764  0.035330  0.076819 -0.019272  0.178307  0.175013  1.000000"
      ]
     },
     "execution_count": 13,
     "metadata": {},
     "output_type": "execute_result"
    }
   ],
   "source": [
    "df.corr()"
   ]
  },
  {
   "cell_type": "markdown",
   "id": "f6d56d45",
   "metadata": {},
   "source": [
    "##### 8. Unique number of values in a particular feature"
   ]
  },
  {
   "cell_type": "code",
   "execution_count": 14,
   "id": "14d7c7a2",
   "metadata": {},
   "outputs": [
    {
     "data": {
      "text/plain": [
       "sl_no             215\n",
       "gender              2\n",
       "ssc_p             103\n",
       "ssc_b               2\n",
       "hsc_p              97\n",
       "hsc_b               2\n",
       "hsc_s               3\n",
       "degree_p           89\n",
       "degree_t            3\n",
       "workex              2\n",
       "etest_p           100\n",
       "specialisation      2\n",
       "mba_p             205\n",
       "status              2\n",
       "salary             45\n",
       "dtype: int64"
      ]
     },
     "execution_count": 14,
     "metadata": {},
     "output_type": "execute_result"
    }
   ],
   "source": [
    "df.nunique()"
   ]
  },
  {
   "cell_type": "markdown",
   "id": "248fc667",
   "metadata": {},
   "source": [
    "## 4. Data Exploration & Cleaning"
   ]
  },
  {
   "cell_type": "markdown",
   "id": "a6f497e0",
   "metadata": {},
   "source": [
    "##### Map Placed=1  & Not Placed=0"
   ]
  },
  {
   "cell_type": "code",
   "execution_count": 15,
   "id": "1543f578",
   "metadata": {},
   "outputs": [],
   "source": [
    "#'Placed': 1, 'Not Placed': 0\n",
    "df['status01'] = df['status'].map({'Placed': 1, 'Not Placed': 0})"
   ]
  },
  {
   "cell_type": "markdown",
   "id": "3b2ccb4e",
   "metadata": {},
   "source": [
    "##### Changing names of columns"
   ]
  },
  {
   "cell_type": "code",
   "execution_count": 16,
   "id": "f632bc14",
   "metadata": {},
   "outputs": [],
   "source": [
    "#change Names(rename) of Columns\n",
    "df.rename(columns={'sl_no':'S.No.', 'gender':'Gender', 'ssc_p':'10th%', 'ssc_b':'10th_board', 'hsc_p':'12th%', 'hsc_b':'12th_board', \n",
    " 'hsc_s':'12th_specialization', 'degree_p':'graduation%', 'degree_t':'graduation_deg', 'workex':'Work_experience',\n",
    " 'etest_p':'Employee_test%', 'specialisation':'MBA_specialization', 'mba_p':'MBA%', 'status':'Placed/Not','status01':'status01', 'salary':'Salary'},\n",
    "          inplace=True)"
   ]
  },
  {
   "cell_type": "code",
   "execution_count": 17,
   "id": "69b8a65c",
   "metadata": {},
   "outputs": [
    {
     "data": {
      "text/plain": [
       "Index(['S.No.', 'Gender', '10th%', '10th_board', '12th%', '12th_board',\n",
       "       '12th_specialization', 'graduation%', 'graduation_deg',\n",
       "       'Work_experience', 'Employee_test%', 'MBA_specialization', 'MBA%',\n",
       "       'Placed/Not', 'Salary', 'status01'],\n",
       "      dtype='object')"
      ]
     },
     "execution_count": 17,
     "metadata": {},
     "output_type": "execute_result"
    }
   ],
   "source": [
    "#New Column names\n",
    "df.columns"
   ]
  },
  {
   "cell_type": "markdown",
   "id": "b5742ff2",
   "metadata": {},
   "source": [
    "##### Categoriacal & Numerical Features"
   ]
  },
  {
   "cell_type": "code",
   "execution_count": 18,
   "id": "64f03c61",
   "metadata": {},
   "outputs": [],
   "source": [
    "#Categorical Features\n",
    "cat_fea=['Gender', '10th_board', '12th_board', '12th_specialization', 'graduation_deg', 'Work_experience', 'MBA_specialization', 'Placed/Not']\n",
    "#Numerical Features\n",
    "num_fea=['10th%', '12th%', 'graduation%', 'Employee_test%', 'MBA%', 'Salary']"
   ]
  },
  {
   "cell_type": "markdown",
   "id": "9bcd2c6a",
   "metadata": {},
   "source": [
    "##### Value Counts "
   ]
  },
  {
   "cell_type": "code",
   "execution_count": 19,
   "id": "48610de4",
   "metadata": {},
   "outputs": [
    {
     "name": "stdout",
     "output_type": "stream",
     "text": [
      "Gender\n",
      "M    64.651163\n",
      "F    35.348837\n",
      "Name: Gender, dtype: float64\n",
      "\n",
      "10th_board\n",
      "Central    53.953488\n",
      "Others     46.046512\n",
      "Name: 10th_board, dtype: float64\n",
      "\n",
      "12th_board\n",
      "Others     60.930233\n",
      "Central    39.069767\n",
      "Name: 12th_board, dtype: float64\n",
      "\n",
      "12th_specialization\n",
      "Commerce    52.558140\n",
      "Science     42.325581\n",
      "Arts         5.116279\n",
      "Name: 12th_specialization, dtype: float64\n",
      "\n",
      "graduation_deg\n",
      "Comm&Mgmt    67.441860\n",
      "Sci&Tech     27.441860\n",
      "Others        5.116279\n",
      "Name: graduation_deg, dtype: float64\n",
      "\n",
      "Work_experience\n",
      "No     65.581395\n",
      "Yes    34.418605\n",
      "Name: Work_experience, dtype: float64\n",
      "\n",
      "MBA_specialization\n",
      "Mkt&Fin    55.813953\n",
      "Mkt&HR     44.186047\n",
      "Name: MBA_specialization, dtype: float64\n",
      "\n",
      "Placed/Not\n",
      "Placed        68.837209\n",
      "Not Placed    31.162791\n",
      "Name: Placed/Not, dtype: float64\n",
      "\n"
     ]
    }
   ],
   "source": [
    "#percent of all categories in categorical feature \n",
    "for fea in cat_fea:\n",
    "    print(f'{fea}\\n{(df[fea].value_counts()/df.shape[0])*100}\\n')\n",
    "#Observation-->Imbalanced 'Gender','12th_board','12th_specialization'(Arts),'graduation_deg'(Others),'Work_experience','Placed/Not'\n",
    "#Observation-->Approximately balanced Data on '10th_board', 'MBA_specialization'"
   ]
  },
  {
   "cell_type": "markdown",
   "id": "2c162335",
   "metadata": {},
   "source": [
    "## 5. Exploratory Data Analysis (EDA)\n",
    "1. Univariate Analysis\n",
    "2. Bivariate Analysis\n",
    "3. Multivariate Analysis"
   ]
  },
  {
   "cell_type": "markdown",
   "id": "ea520a89",
   "metadata": {},
   "source": [
    "### 1. UNIVARIATE Analysis"
   ]
  },
  {
   "cell_type": "markdown",
   "id": "f7919f16",
   "metadata": {},
   "source": [
    "##### 1.1 Non-Missing values"
   ]
  },
  {
   "cell_type": "code",
   "execution_count": 20,
   "id": "7651120b",
   "metadata": {},
   "outputs": [],
   "source": [
    "mis_color = []\n",
    "\n",
    "for col in df.columns:\n",
    "    if df[col].isna().sum() != 0:\n",
    "        mis_color.append('#36FFF5')\n",
    "    else:\n",
    "        mis_color.append('gray')"
   ]
  },
  {
   "cell_type": "code",
   "execution_count": 21,
   "id": "8d101170",
   "metadata": {},
   "outputs": [
    {
     "data": {
      "text/plain": [
       "Text(0.5, 1.15, 'Non-Missing Values (BEFORE)')"
      ]
     },
     "execution_count": 21,
     "metadata": {},
     "output_type": "execute_result"
    },
    {
     "data": {
      "image/png": "[encoded data removed]",
      "text/plain": [
       "<Figure size 2500x1000 with 3 Axes>"
      ]
     },
     "metadata": {},
     "output_type": "display_data"
    }
   ],
   "source": [
    "msn.bar(df, color=mis_color)\n",
    "plt.title('Non-Missing Values (BEFORE)', size=45, y=1.15)\n",
    "#Observation-->Some missing values in 'Salary'"
   ]
  },
  {
   "cell_type": "markdown",
   "id": "7be7a600",
   "metadata": {},
   "source": [
    "##### 1.2 Salary Distribution(Kernel Density Estimator - KDE Plot)"
   ]
  },
  {
   "cell_type": "code",
   "execution_count": 22,
   "id": "4f54d31e",
   "metadata": {},
   "outputs": [
    {
     "ename": "TypeError",
     "evalue": "ufunc 'isfinite' not supported for the input types, and the inputs could not be safely coerced to any supported types according to the casting rule ''safe''",
     "output_type": "error",
     "traceback": [
      "\u001b[1;31m---------------------------------------------------------------------------\u001b[0m",
      "\u001b[1;31mTypeError\u001b[0m                                 Traceback (most recent call last)",
      "Cell \u001b[1;32mIn[22], line 10\u001b[0m\n\u001b[0;32m      7\u001b[0m temp_df \u001b[38;5;241m=\u001b[39m temp_df\u001b[38;5;241m.\u001b[39mdropna()\n\u001b[0;32m      9\u001b[0m \u001b[38;5;66;03m# plots\u001b[39;00m\n\u001b[1;32m---> 10\u001b[0m \u001b[43msns\u001b[49m\u001b[38;5;241;43m.\u001b[39;49m\u001b[43mkdeplot\u001b[49m\u001b[43m(\u001b[49m\u001b[43mdata\u001b[49m\u001b[38;5;241;43m=\u001b[39;49m\u001b[43mtemp_df\u001b[49m\u001b[43m,\u001b[49m\u001b[43mx\u001b[49m\u001b[38;5;241;43m=\u001b[39;49m\u001b[38;5;124;43m'\u001b[39;49m\u001b[38;5;124;43mSalary\u001b[39;49m\u001b[38;5;124;43m'\u001b[39;49m\u001b[43m,\u001b[49m\u001b[43m \u001b[49m\u001b[43mshade\u001b[49m\u001b[38;5;241;43m=\u001b[39;49m\u001b[38;5;28;43;01mTrue\u001b[39;49;00m\u001b[43m,\u001b[49m\u001b[43m \u001b[49m\u001b[43max\u001b[49m\u001b[38;5;241;43m=\u001b[39;49m\u001b[43max\u001b[49m\u001b[43m,\u001b[49m\u001b[43m \u001b[49m\u001b[43mcolor\u001b[49m\u001b[38;5;241;43m=\u001b[39;49m\u001b[38;5;124;43m'\u001b[39;49m\u001b[38;5;124;43morange\u001b[39;49m\u001b[38;5;124;43m'\u001b[39;49m\u001b[43m,\u001b[49m\u001b[43m \u001b[49m\u001b[43malpha\u001b[49m\u001b[38;5;241;43m=\u001b[39;49m\u001b[38;5;241;43m1\u001b[39;49m\u001b[43m)\u001b[49m\n\u001b[0;32m     11\u001b[0m plt\u001b[38;5;241m.\u001b[39mxlabel(\u001b[38;5;124m'\u001b[39m\u001b[38;5;124mSalary\u001b[39m\u001b[38;5;124m'\u001b[39m)\n\u001b[0;32m     12\u001b[0m plt\u001b[38;5;241m.\u001b[39mylabel(\u001b[38;5;124m'\u001b[39m\u001b[38;5;124mprobability Density\u001b[39m\u001b[38;5;124m'\u001b[39m)\n",
      "File \u001b[1;32m~\\anaconda3\\envs\\campusplacement\\lib\\site-packages\\seaborn\\distributions.py:1717\u001b[0m, in \u001b[0;36mkdeplot\u001b[1;34m(data, x, y, hue, weights, palette, hue_order, hue_norm, color, fill, multiple, common_norm, common_grid, cumulative, bw_method, bw_adjust, warn_singular, log_scale, levels, thresh, gridsize, cut, clip, legend, cbar, cbar_ax, cbar_kws, ax, **kwargs)\u001b[0m\n\u001b[0;32m   1713\u001b[0m \u001b[38;5;28;01mif\u001b[39;00m p\u001b[38;5;241m.\u001b[39munivariate:\n\u001b[0;32m   1715\u001b[0m     plot_kws \u001b[38;5;241m=\u001b[39m kwargs\u001b[38;5;241m.\u001b[39mcopy()\n\u001b[1;32m-> 1717\u001b[0m     p\u001b[38;5;241m.\u001b[39mplot_univariate_density(\n\u001b[0;32m   1718\u001b[0m         multiple\u001b[38;5;241m=\u001b[39mmultiple,\n\u001b[0;32m   1719\u001b[0m         common_norm\u001b[38;5;241m=\u001b[39mcommon_norm,\n\u001b[0;32m   1720\u001b[0m         common_grid\u001b[38;5;241m=\u001b[39mcommon_grid,\n\u001b[0;32m   1721\u001b[0m         fill\u001b[38;5;241m=\u001b[39mfill,\n\u001b[0;32m   1722\u001b[0m         color\u001b[38;5;241m=\u001b[39mcolor,\n\u001b[0;32m   1723\u001b[0m         legend\u001b[38;5;241m=\u001b[39mlegend,\n\u001b[0;32m   1724\u001b[0m         warn_singular\u001b[38;5;241m=\u001b[39mwarn_singular,\n\u001b[0;32m   1725\u001b[0m         estimate_kws\u001b[38;5;241m=\u001b[39mestimate_kws,\n\u001b[0;32m   1726\u001b[0m         \u001b[38;5;241m*\u001b[39m\u001b[38;5;241m*\u001b[39mplot_kws,\n\u001b[0;32m   1727\u001b[0m     )\n\u001b[0;32m   1729\u001b[0m \u001b[38;5;28;01melse\u001b[39;00m:\n\u001b[0;32m   1731\u001b[0m     p\u001b[38;5;241m.\u001b[39mplot_bivariate_density(\n\u001b[0;32m   1732\u001b[0m         common_norm\u001b[38;5;241m=\u001b[39mcommon_norm,\n\u001b[0;32m   1733\u001b[0m         fill\u001b[38;5;241m=\u001b[39mfill,\n\u001b[1;32m   (...)\u001b[0m\n\u001b[0;32m   1743\u001b[0m         \u001b[38;5;241m*\u001b[39m\u001b[38;5;241m*\u001b[39mkwargs,\n\u001b[0;32m   1744\u001b[0m     )\n",
      "File \u001b[1;32m~\\anaconda3\\envs\\campusplacement\\lib\\site-packages\\seaborn\\distributions.py:996\u001b[0m, in \u001b[0;36m_DistributionPlotter.plot_univariate_density\u001b[1;34m(self, multiple, common_norm, common_grid, warn_singular, fill, color, legend, estimate_kws, **plot_kws)\u001b[0m\n\u001b[0;32m    993\u001b[0m \u001b[38;5;28;01mif\u001b[39;00m \u001b[38;5;124m\"\u001b[39m\u001b[38;5;124mx\u001b[39m\u001b[38;5;124m\"\u001b[39m \u001b[38;5;129;01min\u001b[39;00m \u001b[38;5;28mself\u001b[39m\u001b[38;5;241m.\u001b[39mvariables:\n\u001b[0;32m    995\u001b[0m     \u001b[38;5;28;01mif\u001b[39;00m fill:\n\u001b[1;32m--> 996\u001b[0m         artist \u001b[38;5;241m=\u001b[39m ax\u001b[38;5;241m.\u001b[39mfill_between(support, fill_from, density, \u001b[38;5;241m*\u001b[39m\u001b[38;5;241m*\u001b[39martist_kws)\n\u001b[0;32m    998\u001b[0m     \u001b[38;5;28;01melse\u001b[39;00m:\n\u001b[0;32m    999\u001b[0m         artist, \u001b[38;5;241m=\u001b[39m ax\u001b[38;5;241m.\u001b[39mplot(support, density, \u001b[38;5;241m*\u001b[39m\u001b[38;5;241m*\u001b[39martist_kws)\n",
      "File \u001b[1;32m~\\anaconda3\\envs\\campusplacement\\lib\\site-packages\\matplotlib\\__init__.py:1423\u001b[0m, in \u001b[0;36m_preprocess_data.<locals>.inner\u001b[1;34m(ax, data, *args, **kwargs)\u001b[0m\n\u001b[0;32m   1420\u001b[0m \u001b[38;5;129m@functools\u001b[39m\u001b[38;5;241m.\u001b[39mwraps(func)\n\u001b[0;32m   1421\u001b[0m \u001b[38;5;28;01mdef\u001b[39;00m \u001b[38;5;21minner\u001b[39m(ax, \u001b[38;5;241m*\u001b[39margs, data\u001b[38;5;241m=\u001b[39m\u001b[38;5;28;01mNone\u001b[39;00m, \u001b[38;5;241m*\u001b[39m\u001b[38;5;241m*\u001b[39mkwargs):\n\u001b[0;32m   1422\u001b[0m     \u001b[38;5;28;01mif\u001b[39;00m data \u001b[38;5;129;01mis\u001b[39;00m \u001b[38;5;28;01mNone\u001b[39;00m:\n\u001b[1;32m-> 1423\u001b[0m         \u001b[38;5;28;01mreturn\u001b[39;00m func(ax, \u001b[38;5;241m*\u001b[39m\u001b[38;5;28mmap\u001b[39m(sanitize_sequence, args), \u001b[38;5;241m*\u001b[39m\u001b[38;5;241m*\u001b[39mkwargs)\n\u001b[0;32m   1425\u001b[0m     bound \u001b[38;5;241m=\u001b[39m new_sig\u001b[38;5;241m.\u001b[39mbind(ax, \u001b[38;5;241m*\u001b[39margs, \u001b[38;5;241m*\u001b[39m\u001b[38;5;241m*\u001b[39mkwargs)\n\u001b[0;32m   1426\u001b[0m     auto_label \u001b[38;5;241m=\u001b[39m (bound\u001b[38;5;241m.\u001b[39marguments\u001b[38;5;241m.\u001b[39mget(label_namer)\n\u001b[0;32m   1427\u001b[0m                   \u001b[38;5;129;01mor\u001b[39;00m bound\u001b[38;5;241m.\u001b[39mkwargs\u001b[38;5;241m.\u001b[39mget(label_namer))\n",
      "File \u001b[1;32m~\\anaconda3\\envs\\campusplacement\\lib\\site-packages\\matplotlib\\axes\\_axes.py:5367\u001b[0m, in \u001b[0;36mAxes.fill_between\u001b[1;34m(self, x, y1, y2, where, interpolate, step, **kwargs)\u001b[0m\n\u001b[0;32m   5365\u001b[0m \u001b[38;5;28;01mdef\u001b[39;00m \u001b[38;5;21mfill_between\u001b[39m(\u001b[38;5;28mself\u001b[39m, x, y1, y2\u001b[38;5;241m=\u001b[39m\u001b[38;5;241m0\u001b[39m, where\u001b[38;5;241m=\u001b[39m\u001b[38;5;28;01mNone\u001b[39;00m, interpolate\u001b[38;5;241m=\u001b[39m\u001b[38;5;28;01mFalse\u001b[39;00m,\n\u001b[0;32m   5366\u001b[0m                  step\u001b[38;5;241m=\u001b[39m\u001b[38;5;28;01mNone\u001b[39;00m, \u001b[38;5;241m*\u001b[39m\u001b[38;5;241m*\u001b[39mkwargs):\n\u001b[1;32m-> 5367\u001b[0m     \u001b[38;5;28;01mreturn\u001b[39;00m \u001b[38;5;28mself\u001b[39m\u001b[38;5;241m.\u001b[39m_fill_between_x_or_y(\n\u001b[0;32m   5368\u001b[0m         \u001b[38;5;124m\"\u001b[39m\u001b[38;5;124mx\u001b[39m\u001b[38;5;124m\"\u001b[39m, x, y1, y2,\n\u001b[0;32m   5369\u001b[0m         where\u001b[38;5;241m=\u001b[39mwhere, interpolate\u001b[38;5;241m=\u001b[39minterpolate, step\u001b[38;5;241m=\u001b[39mstep, \u001b[38;5;241m*\u001b[39m\u001b[38;5;241m*\u001b[39mkwargs)\n",
      "File \u001b[1;32m~\\anaconda3\\envs\\campusplacement\\lib\\site-packages\\matplotlib\\axes\\_axes.py:5272\u001b[0m, in \u001b[0;36mAxes._fill_between_x_or_y\u001b[1;34m(self, ind_dir, ind, dep1, dep2, where, interpolate, step, **kwargs)\u001b[0m\n\u001b[0;32m   5268\u001b[0m         kwargs[\u001b[38;5;124m\"\u001b[39m\u001b[38;5;124mfacecolor\u001b[39m\u001b[38;5;124m\"\u001b[39m] \u001b[38;5;241m=\u001b[39m \\\n\u001b[0;32m   5269\u001b[0m             \u001b[38;5;28mself\u001b[39m\u001b[38;5;241m.\u001b[39m_get_patches_for_fill\u001b[38;5;241m.\u001b[39mget_next_color()\n\u001b[0;32m   5271\u001b[0m \u001b[38;5;66;03m# Handle united data, such as dates\u001b[39;00m\n\u001b[1;32m-> 5272\u001b[0m ind, dep1, dep2 \u001b[38;5;241m=\u001b[39m \u001b[38;5;28mmap\u001b[39m(\n\u001b[0;32m   5273\u001b[0m     ma\u001b[38;5;241m.\u001b[39mmasked_invalid, \u001b[38;5;28mself\u001b[39m\u001b[38;5;241m.\u001b[39m_process_unit_info(\n\u001b[0;32m   5274\u001b[0m         [(ind_dir, ind), (dep_dir, dep1), (dep_dir, dep2)], kwargs))\n\u001b[0;32m   5276\u001b[0m \u001b[38;5;28;01mfor\u001b[39;00m name, array \u001b[38;5;129;01min\u001b[39;00m [\n\u001b[0;32m   5277\u001b[0m         (ind_dir, ind), (\u001b[38;5;124mf\u001b[39m\u001b[38;5;124m\"\u001b[39m\u001b[38;5;132;01m{\u001b[39;00mdep_dir\u001b[38;5;132;01m}\u001b[39;00m\u001b[38;5;124m1\u001b[39m\u001b[38;5;124m\"\u001b[39m, dep1), (\u001b[38;5;124mf\u001b[39m\u001b[38;5;124m\"\u001b[39m\u001b[38;5;132;01m{\u001b[39;00mdep_dir\u001b[38;5;132;01m}\u001b[39;00m\u001b[38;5;124m2\u001b[39m\u001b[38;5;124m\"\u001b[39m, dep2)]:\n\u001b[0;32m   5278\u001b[0m     \u001b[38;5;28;01mif\u001b[39;00m array\u001b[38;5;241m.\u001b[39mndim \u001b[38;5;241m>\u001b[39m \u001b[38;5;241m1\u001b[39m:\n",
      "File \u001b[1;32m~\\anaconda3\\envs\\campusplacement\\lib\\site-packages\\numpy\\ma\\core.py:2360\u001b[0m, in \u001b[0;36mmasked_invalid\u001b[1;34m(a, copy)\u001b[0m\n\u001b[0;32m   2332\u001b[0m \u001b[38;5;28;01mdef\u001b[39;00m \u001b[38;5;21mmasked_invalid\u001b[39m(a, copy\u001b[38;5;241m=\u001b[39m\u001b[38;5;28;01mTrue\u001b[39;00m):\n\u001b[0;32m   2333\u001b[0m     \u001b[38;5;124;03m\"\"\"\u001b[39;00m\n\u001b[0;32m   2334\u001b[0m \u001b[38;5;124;03m    Mask an array where invalid values occur (NaNs or infs).\u001b[39;00m\n\u001b[0;32m   2335\u001b[0m \n\u001b[1;32m   (...)\u001b[0m\n\u001b[0;32m   2357\u001b[0m \n\u001b[0;32m   2358\u001b[0m \u001b[38;5;124;03m    \"\"\"\u001b[39;00m\n\u001b[1;32m-> 2360\u001b[0m     \u001b[38;5;28;01mreturn\u001b[39;00m masked_where(\u001b[38;5;241m~\u001b[39m(\u001b[43mnp\u001b[49m\u001b[38;5;241;43m.\u001b[39;49m\u001b[43misfinite\u001b[49m\u001b[43m(\u001b[49m\u001b[43mgetdata\u001b[49m\u001b[43m(\u001b[49m\u001b[43ma\u001b[49m\u001b[43m)\u001b[49m\u001b[43m)\u001b[49m), a, copy\u001b[38;5;241m=\u001b[39mcopy)\n",
      "\u001b[1;31mTypeError\u001b[0m: ufunc 'isfinite' not supported for the input types, and the inputs could not be safely coerced to any supported types according to the casting rule ''safe''"
     ]
    },
    {
     "data": {
      "image/png": "[encoded data removed]",
      "text/plain": [
       "<Figure size 1800x600 with 1 Axes>"
      ]
     },
     "metadata": {},
     "output_type": "display_data"
    }
   ],
   "source": [
    "fig = plt.figure(figsize=(18, 6))\n",
    "ax = fig.add_subplot(111)\n",
    "plt.title('Salary Distribution', size=28)\n",
    "\n",
    "# Since there are many NaN values in Salary feature, so Data without NaN values in salary column\n",
    "temp_df = df.copy()\n",
    "temp_df = temp_df.dropna()\n",
    "\n",
    "# plots\n",
    "sns.kdeplot(data=temp_df,x='Salary', shade=True, ax=ax, color='orange', alpha=1)\n",
    "plt.xlabel('Salary')\n",
    "plt.ylabel('probability Density')\n",
    "\n",
    "#Observation-->We have Right Skewed distribution. It’s worth noting that we don’t have much data"
   ]
  },
  {
   "cell_type": "code",
   "execution_count": null,
   "id": "1849a6bb",
   "metadata": {},
   "outputs": [],
   "source": [
    "#Most frequent Salary\n",
    "temp_df['Salary'].mode().iloc[0]"
   ]
  },
  {
   "cell_type": "markdown",
   "id": "ef382f53",
   "metadata": {},
   "source": [
    "##### 1.3 Placed/Not ratio"
   ]
  },
  {
   "cell_type": "code",
   "execution_count": null,
   "id": "637c927e",
   "metadata": {},
   "outputs": [],
   "source": [
    "# pie chart for Placed/Not\n",
    "\n",
    "fig = plt.figure(figsize=(18, 6))\n",
    "ax = fig.add_subplot(111)\n",
    "plt.title('Distribution of Predicted Values (Placements)', size=28)\n",
    "\n",
    "explode = [0, 0.1]\n",
    "values=df['Placed/Not'].value_counts()\n",
    "labels=df['Placed/Not'].unique().tolist()\n",
    "plt.pie(values, labels=labels, explode=explode, autopct='%.0f%%')\n",
    "  \n",
    "# displaying chart\n",
    "plt.show()\n",
    "print(values)"
   ]
  },
  {
   "cell_type": "markdown",
   "id": "b407ef01",
   "metadata": {},
   "source": [
    "##### 1.4 Gender ratio"
   ]
  },
  {
   "cell_type": "code",
   "execution_count": null,
   "id": "e3716850",
   "metadata": {},
   "outputs": [],
   "source": [
    "sns.countplot(df['Gender'])"
   ]
  },
  {
   "cell_type": "markdown",
   "id": "0620ca36",
   "metadata": {},
   "source": [
    "##### 1.5  Work Experience Ratio"
   ]
  },
  {
   "cell_type": "code",
   "execution_count": null,
   "id": "f8825e12",
   "metadata": {},
   "outputs": [],
   "source": [
    "# pie chart for Work Experience\n",
    "\n",
    "fig = plt.figure(figsize=(18, 6))\n",
    "ax = fig.add_subplot(111)\n",
    "plt.title('Ratio of Work Experience', size=28)\n",
    "\n",
    "explode = [0, 0.1]\n",
    "values=df['Work_experience'].value_counts()\n",
    "labels=df['Work_experience'].unique().tolist()\n",
    "plt.pie(values, labels=labels, explode=explode, autopct='%.0f%%')\n",
    "\n",
    "# displaying chart\n",
    "plt.show()\n",
    "print(values)"
   ]
  },
  {
   "cell_type": "markdown",
   "id": "126fceee",
   "metadata": {},
   "source": [
    "### 2. BIVARIATE Analysis"
   ]
  },
  {
   "cell_type": "markdown",
   "id": "87576985",
   "metadata": {},
   "source": [
    "##### 2.1 Salary Vs Placement"
   ]
  },
  {
   "cell_type": "code",
   "execution_count": null,
   "id": "223cf8c8",
   "metadata": {},
   "outputs": [],
   "source": [
    "#Status of Placed/Not wrt NaN Salary\n",
    "df[['Placed/Not', 'Salary']][np.isnan(df.Salary)]"
   ]
  },
  {
   "cell_type": "markdown",
   "id": "324c7d59",
   "metadata": {},
   "source": [
    "**If we look at Salary of students Not got placed, it becomes clearer that all the students who haven't got Placed have 0 salary**\n",
    "\n",
    "**In this case, we can replace the missing values with a variable of \"0\", but then we will have a direct link with the predicted status, so you should delete this column¶**"
   ]
  },
  {
   "cell_type": "code",
   "execution_count": null,
   "id": "5f35a08f",
   "metadata": {
    "scrolled": true
   },
   "outputs": [],
   "source": [
    "#drop Salary and S.No.(as its of no use)\n",
    "df=df.drop(['Salary', 'S.No.'], axis=1)\n",
    "#sample row of df\n",
    "df.sample()"
   ]
  },
  {
   "cell_type": "code",
   "execution_count": null,
   "id": "c415840d",
   "metadata": {},
   "outputs": [],
   "source": [
    "df.columns"
   ]
  },
  {
   "cell_type": "markdown",
   "id": "fb8cfd44",
   "metadata": {},
   "source": [
    "##### 2.2 Count of Placements for Male and Female"
   ]
  },
  {
   "cell_type": "code",
   "execution_count": null,
   "id": "be58498e",
   "metadata": {
    "scrolled": true
   },
   "outputs": [],
   "source": [
    "#    \n",
    "fig = plt.figure(figsize=(12, 5))\n",
    "ax = fig.add_subplot(111)\n",
    "plt.title('Count of Placements', size=28)\n",
    "\n",
    "sns.countplot(x='Placed/Not',data=df,hue='Gender', palette=['blue', 'orange'])\n",
    "\n",
    "ax.set(xlabel=None, ylabel=None)\n",
    "ax.set_xticklabels(['Not Placed', 'Placed'], size=25)\n",
    "plt.show()"
   ]
  },
  {
   "cell_type": "markdown",
   "id": "2a5031ce",
   "metadata": {},
   "source": [
    "##### 2.3 Gender influence on Placement "
   ]
  },
  {
   "cell_type": "code",
   "execution_count": null,
   "id": "e7f35ab4",
   "metadata": {},
   "outputs": [],
   "source": [
    "fig = plt.figure(figsize=(12, 5))\n",
    "ax = fig.add_subplot(111)\n",
    "plt.title('Count of Placements', size=28)\n",
    "\n",
    "sns.barplot(y='status01',x='Gender', data=df, hue='Gender', palette=['blue', 'orange'], orient='v')\n",
    "\n",
    "ax.set(xlabel=None, ylabel=None)\n",
    "ax.set_xticklabels(['Placed', 'Not Placed'], size=25)\n",
    "plt.show()"
   ]
  },
  {
   "cell_type": "markdown",
   "id": "d68faedc",
   "metadata": {},
   "source": [
    "#### 2.4 Secondary Education (Class 10th)"
   ]
  },
  {
   "cell_type": "code",
   "execution_count": null,
   "id": "15ee4888",
   "metadata": {},
   "outputs": [],
   "source": [
    "fig = plt.figure(figsize=(12,8))\n",
    "ax = fig.add_subplot(111)\n",
    "plt.title('Count of 10th Board', size=28)\n",
    "\n",
    "sns.countplot(x='10th_board',data=df, palette=['blue', 'orange'])\n",
    "\n",
    "ax.set(xlabel=None, ylabel=None)\n",
    "ax.set_xticklabels(['Others', 'Central'], size=25)\n",
    "plt.show()"
   ]
  },
  {
   "cell_type": "code",
   "execution_count": null,
   "id": "14445db2",
   "metadata": {},
   "outputs": [],
   "source": [
    "fig = plt.figure(figsize=(12, 5))\n",
    "ax = fig.add_subplot(111)\n",
    "plt.title('Class 10th board influence on Placements', size=28)\n",
    "\n",
    "sns.barplot(y='status01',x='10th_board', data=df, palette=['blue', 'orange'], orient='v')\n",
    "\n",
    "ax.set(xlabel=None, ylabel=None)\n",
    "ax.set_xticklabels(['Others', 'Central'], size=25)\n",
    "plt.show()"
   ]
  },
  {
   "cell_type": "code",
   "execution_count": null,
   "id": "38669087",
   "metadata": {
    "scrolled": true
   },
   "outputs": [],
   "source": [
    "fig = plt.figure(figsize=(18, 6))\n",
    "ax = fig.add_subplot(111)\n",
    "plt.title('Placement Distribution By 10th Percentage', size=28)\n",
    "\n",
    "ax.text(85, 0.03, 'Placed', {'fontproperties': 'Serif','size': '20','weight': 'bold','color': 'orange'}, alpha=0.9)\n",
    "ax.text(35, 0.03, 'Not Placed', {'fontproperties': 'Serif','size': '20','weight': 'bold','color': 'blue'}, alpha=0.9)\n",
    "\n",
    "sns.kdeplot(data=df[df['Placed/Not']=='Placed'], x='10th%', shade=True, ax=ax, color='orange', alpha=1)\n",
    "sns.kdeplot(data=df[df['Placed/Not']!='Placed'], x='10th%', shade=True, ax=ax, color='blue', alpha=0.7)\n",
    "\n",
    "plt.xlabel(\"10th Percentage\", {'fontproperties': 'Serif','size': '25','weight': 'bold'})\n",
    "plt.show()"
   ]
  },
  {
   "cell_type": "markdown",
   "id": "a816ae72",
   "metadata": {},
   "source": [
    "#### 2.5 Senior Secondary Education (Class 12th)"
   ]
  },
  {
   "cell_type": "code",
   "execution_count": null,
   "id": "6c000744",
   "metadata": {},
   "outputs": [],
   "source": [
    "fig = plt.figure(figsize=(12,8))\n",
    "ax = fig.add_subplot(111)\n",
    "plt.title('Count of 12th Board', size=28)\n",
    "\n",
    "sns.countplot(x='12th_board',data=df, palette=['blue', 'orange'])\n",
    "\n",
    "ax.set(xlabel=None, ylabel=None)\n",
    "ax.set_xticklabels(['Others', 'Central'], size=25)\n",
    "plt.show()"
   ]
  },
  {
   "cell_type": "code",
   "execution_count": null,
   "id": "499afb4e",
   "metadata": {},
   "outputs": [],
   "source": [
    "fig = plt.figure(figsize=(12, 5))\n",
    "ax = fig.add_subplot(111)\n",
    "plt.title('Class 12th board influence on Placements', size=28)\n",
    "\n",
    "sns.barplot(y='status01',x='12th_board', data=df, palette=['blue', 'orange'], orient='v')\n",
    "\n",
    "ax.set(xlabel=None, ylabel=None)\n",
    "ax.set_xticklabels(['Others', 'Central'], size=25)\n",
    "plt.show()"
   ]
  },
  {
   "cell_type": "code",
   "execution_count": null,
   "id": "7cca1ac9",
   "metadata": {},
   "outputs": [],
   "source": [
    "fig = plt.figure(figsize=(12,8))\n",
    "ax = fig.add_subplot(111)\n",
    "plt.title('Count of 12th Board Specialization', size=28)\n",
    "\n",
    "sns.countplot(x='12th_specialization',data=df, palette=['blue', 'orange', 'gray'])\n",
    "\n",
    "ax.set(xlabel=None, ylabel=None)\n",
    "ax.set_xticklabels(['Commerce', 'Science', 'Arts'], size=25)\n",
    "plt.show()"
   ]
  },
  {
   "cell_type": "code",
   "execution_count": null,
   "id": "3cf85f11",
   "metadata": {},
   "outputs": [],
   "source": [
    "fig = plt.figure(figsize=(12, 5))\n",
    "ax = fig.add_subplot(111)\n",
    "plt.title('Class 12th specialization influence on Placements', size=28)\n",
    "\n",
    "sns.barplot(y='status01',x='12th_specialization', data=df, palette=['blue', 'orange', 'gray'], orient='v')\n",
    "\n",
    "ax.set(xlabel=None, ylabel=None)\n",
    "ax.set_xticklabels(['Commerce', 'Science', 'Arts'], size=25)\n",
    "plt.show()"
   ]
  },
  {
   "cell_type": "code",
   "execution_count": null,
   "id": "1403642b",
   "metadata": {},
   "outputs": [],
   "source": [
    "fig = plt.figure(figsize=(18, 6))\n",
    "ax = fig.add_subplot(111)\n",
    "plt.title('Placement Distribution By 12th Percentage', size=28)\n",
    "\n",
    "ax.text(85, 0.03, 'Placed', {'fontproperties': 'Serif','size': '20','weight': 'bold','color': 'orange'}, alpha=0.9)\n",
    "ax.text(35, 0.03, 'Not Placed', {'fontproperties': 'Serif','size': '20','weight': 'bold','color': 'blue'}, alpha=0.9)\n",
    "\n",
    "sns.kdeplot(data=df[df['Placed/Not']=='Placed'], x='12th%', shade=True, ax=ax, color='orange', alpha=1)\n",
    "sns.kdeplot(data=df[df['Placed/Not']!='Placed'], x='12th%', shade=True, ax=ax, color='blue', alpha=0.7)\n",
    "plt.xlabel(\"12th Percentage\", {'fontproperties': 'Serif','size': '25','weight': 'bold'})\n",
    "\n",
    "plt.show()"
   ]
  },
  {
   "cell_type": "markdown",
   "id": "834aba8a",
   "metadata": {},
   "source": [
    "#### 2.6 Graduation"
   ]
  },
  {
   "cell_type": "code",
   "execution_count": null,
   "id": "16dc4218",
   "metadata": {},
   "outputs": [],
   "source": [
    "fig = plt.figure(figsize=(12,8))\n",
    "ax = fig.add_subplot(111)\n",
    "plt.title('Count of Graduation Degrees', size=28)\n",
    "\n",
    "sns.countplot(x='graduation_deg',data=df, palette=['blue', 'orange', 'gray'])\n",
    "\n",
    "ax.set(xlabel=None, ylabel=None)\n",
    "ax.set_xticklabels(['Sci & Tech', 'Comm & Mang', 'Others'], size=25)\n",
    "plt.show()"
   ]
  },
  {
   "cell_type": "code",
   "execution_count": null,
   "id": "f4563d85",
   "metadata": {},
   "outputs": [],
   "source": [
    "fig = plt.figure(figsize=(12, 5))\n",
    "ax = fig.add_subplot(111)\n",
    "plt.title('Graduation Degree influence on Placements', size=28)\n",
    "\n",
    "sns.barplot(y='status01',x='graduation_deg', data=df, palette=['blue', 'orange', 'gray'], orient='v')\n",
    "\n",
    "ax.set(xlabel=None, ylabel=None)\n",
    "ax.set_xticklabels(['Sci & Tech', 'Comm & Mang', 'Others'], size=25)\n",
    "plt.show()"
   ]
  },
  {
   "cell_type": "code",
   "execution_count": null,
   "id": "8732c600",
   "metadata": {},
   "outputs": [],
   "source": [
    "fig = plt.figure(figsize=(18, 6))\n",
    "ax = fig.add_subplot(111)\n",
    "plt.title('Placement Distribution By Graduation Percentage', size=28)\n",
    "\n",
    "ax.text(85, 0.03, 'Placed', {'fontproperties': 'Serif','size': '20','weight': 'bold','color': 'orange'}, alpha=0.9)\n",
    "ax.text(45, 0.03, 'Not Placed', {'fontproperties': 'Serif','size': '20','weight': 'bold','color': 'blue'}, alpha=0.9)\n",
    "\n",
    "sns.kdeplot(data=df[df['Placed/Not']=='Placed'], x='graduation%', shade=True, ax=ax, color='orange', alpha=1)\n",
    "sns.kdeplot(data=df[df['Placed/Not']!='Placed'], x='graduation%', shade=True, ax=ax, color='blue', alpha=0.7)\n",
    "plt.xlabel(\"Graduation Percentage\", {'fontproperties': 'Serif','size': '25','weight': 'bold'})\n",
    "\n",
    "plt.show()"
   ]
  },
  {
   "cell_type": "markdown",
   "id": "da990a2a",
   "metadata": {},
   "source": [
    "#### 2.7 Post-Graduation (MBA)"
   ]
  },
  {
   "cell_type": "code",
   "execution_count": null,
   "id": "61239a58",
   "metadata": {},
   "outputs": [],
   "source": [
    "fig = plt.figure(figsize=(12,8))\n",
    "ax = fig.add_subplot(111)\n",
    "plt.title('Count of MBA Specialization', size=28)\n",
    "\n",
    "sns.countplot(x='MBA_specialization',data=df, palette=['blue', 'orange'])\n",
    "\n",
    "ax.set(xlabel=None, ylabel=None)\n",
    "ax.set_xticklabels(['Marketing & HR', 'Marketing & Finance'], size=25)\n",
    "plt.show()"
   ]
  },
  {
   "cell_type": "code",
   "execution_count": null,
   "id": "946aa46d",
   "metadata": {},
   "outputs": [],
   "source": [
    "fig = plt.figure(figsize=(18, 6))\n",
    "ax = fig.add_subplot(111)\n",
    "plt.title('Placement Distribution By MBA Percentage', size=28)\n",
    "\n",
    "ax.text(75, 0.03, 'Placed', {'fontproperties': 'Serif','size': '20','weight': 'bold','color': 'orange'}, alpha=0.9)\n",
    "ax.text(45, 0.03, 'Not Placed', {'fontproperties': 'Serif','size': '20','weight': 'bold','color': 'blue'}, alpha=0.9)\n",
    "\n",
    "sns.kdeplot(data=df[df['Placed/Not']=='Placed'], x='MBA%', shade=True, ax=ax, color='orange', alpha=1)\n",
    "sns.kdeplot(data=df[df['Placed/Not']!='Placed'], x='MBA%', shade=True, ax=ax, color='blue', alpha=0.7)\n",
    "plt.xlabel(\"MBA Percentage\", {'fontproperties': 'Serif','size': '25','weight': 'bold'})\n",
    "\n",
    "plt.show()"
   ]
  },
  {
   "cell_type": "markdown",
   "id": "046c7f6b",
   "metadata": {},
   "source": [
    "#### 2.8 Employee test"
   ]
  },
  {
   "cell_type": "code",
   "execution_count": null,
   "id": "2e8cbd46",
   "metadata": {},
   "outputs": [],
   "source": [
    "fig = plt.figure(figsize=(18, 6))\n",
    "ax = fig.add_subplot(111)\n",
    "plt.title('Placement Distribution By Employee Test Percentage', size=28)\n",
    "\n",
    "ax.text(95, 0.02, 'Placed', {'fontproperties': 'Serif','size': '20','weight': 'bold','color': 'orange'}, alpha=0.9)\n",
    "ax.text(35, 0.02, 'Not Placed', {'fontproperties': 'Serif','size': '20','weight': 'bold','color': 'blue'}, alpha=0.9)\n",
    "\n",
    "sns.kdeplot(data=df[df['Placed/Not']=='Placed'], x='Employee_test%', shade=True, ax=ax, color='orange', alpha=1)\n",
    "sns.kdeplot(data=df[df['Placed/Not']!='Placed'], x='Employee_test%', shade=True, ax=ax, color='blue', alpha=0.7)\n",
    "plt.xlabel(\"Employee Test Percentage\", {'fontproperties': 'Serif','size': '25','weight': 'bold'})\n",
    "\n",
    "plt.show()"
   ]
  },
  {
   "cell_type": "markdown",
   "id": "b0d970a6",
   "metadata": {},
   "source": [
    "### 3. Multivariate Analysis"
   ]
  },
  {
   "cell_type": "markdown",
   "id": "b73666d3",
   "metadata": {},
   "source": [
    "##### 3.1 Pairplot(relation of all the features with all others)"
   ]
  },
  {
   "cell_type": "code",
   "execution_count": null,
   "id": "0db67e0f",
   "metadata": {
    "scrolled": true
   },
   "outputs": [],
   "source": [
    "#all with with\n",
    "\n",
    "sns.pairplot(df)"
   ]
  },
  {
   "cell_type": "markdown",
   "id": "e53829b0",
   "metadata": {},
   "source": [
    "**Observation-->features doesn't seems to have much outliers**"
   ]
  },
  {
   "cell_type": "markdown",
   "id": "8a080e07",
   "metadata": {},
   "source": [
    "#### 3.2 heatmap (to check collinearity and multicollinearity)"
   ]
  },
  {
   "cell_type": "code",
   "execution_count": null,
   "id": "c8e2e789",
   "metadata": {},
   "outputs": [],
   "source": [
    "#'Placed': 1, 'Not Placed': 0\n",
    "df['Placed/Not'] = df['Placed/Not'].map({'Placed': 1, 'Not Placed': 0})\n",
    "df.drop(['status01'], axis=1, inplace=True)"
   ]
  },
  {
   "cell_type": "code",
   "execution_count": null,
   "id": "bcca2e19",
   "metadata": {},
   "outputs": [],
   "source": [
    "fig = plt.figure(figsize=(18, 6))\n",
    "ax = fig.add_subplot(111)\n",
    "plt.title('Heatmap showing collinearity & multicollinearity', size=28)\n",
    "\n",
    "sns.heatmap(df.corr(), annot=True)"
   ]
  },
  {
   "cell_type": "markdown",
   "id": "c4a0d886",
   "metadata": {},
   "source": [
    "**Observation-->we can clearly see 10th% is most correlated with placements as compared to other class percentages, and employee test% & MBA% have not much weightage on placements. Apart from that feature doesn't seems to have multicollinearity.**"
   ]
  },
  {
   "cell_type": "code",
   "execution_count": null,
   "id": "542c672a",
   "metadata": {},
   "outputs": [],
   "source": [
    "# as we can see, MBA% is not that much correlated with our data we are going to drop it\n",
    "df.drop(\"MBA%\",axis=1,inplace=True)"
   ]
  },
  {
   "cell_type": "markdown",
   "id": "0fe4f714",
   "metadata": {},
   "source": [
    "## 6. Feature Engineering / Preprocessing\n",
    "1. Feature Encoding\n",
    "2. Feature Scaling\n",
    "3. Handling Missing Values(No missing values are there...)\n",
    "4. Handling Outliers"
   ]
  },
  {
   "cell_type": "code",
   "execution_count": null,
   "id": "7ce98afe",
   "metadata": {},
   "outputs": [],
   "source": [
    "df.columns"
   ]
  },
  {
   "cell_type": "markdown",
   "id": "2474784d",
   "metadata": {},
   "source": [
    "#### Dividing Data into dependent & independent variables"
   ]
  },
  {
   "cell_type": "code",
   "execution_count": null,
   "id": "b66d76b0",
   "metadata": {
    "scrolled": true
   },
   "outputs": [],
   "source": [
    "X=df.iloc[:,:-1]\n",
    "y=df.iloc[:,-1]\n",
    "print(X)\n",
    "print(y)"
   ]
  },
  {
   "cell_type": "markdown",
   "id": "2168b7c7",
   "metadata": {},
   "source": [
    "#### Splitting data into train-test\n",
    "Its better to split data into train and test to overcome data leakage problem..."
   ]
  },
  {
   "cell_type": "code",
   "execution_count": null,
   "id": "7228a045",
   "metadata": {},
   "outputs": [],
   "source": [
    "X_train, X_test, y_train, y_test = train_test_split(X, y, test_size=0.2, random_state=42, stratify=y)\n",
    "print(f'X_train:{X_train.shape}, y_train:{y_train.shape}, X_test:{X_test.shape}, y_test:{y_test.shape}')"
   ]
  },
  {
   "cell_type": "code",
   "execution_count": null,
   "id": "8a9cb4a7",
   "metadata": {},
   "outputs": [],
   "source": [
    "X_train.head()"
   ]
  },
  {
   "cell_type": "code",
   "execution_count": null,
   "id": "5c1acd8d",
   "metadata": {},
   "outputs": [],
   "source": [
    "X_test.head()"
   ]
  },
  {
   "cell_type": "code",
   "execution_count": null,
   "id": "a1251186",
   "metadata": {},
   "outputs": [],
   "source": [
    "y_train"
   ]
  },
  {
   "cell_type": "code",
   "execution_count": null,
   "id": "0d95966b",
   "metadata": {},
   "outputs": [],
   "source": [
    "y_test"
   ]
  },
  {
   "cell_type": "markdown",
   "id": "c156c158",
   "metadata": {},
   "source": [
    "#### Column Transformer & pipeline creation"
   ]
  },
  {
   "cell_type": "code",
   "execution_count": null,
   "id": "3fe7f0e1",
   "metadata": {},
   "outputs": [],
   "source": [
    "# import required libraries for Feature Encoding(Nominal) and scaling\n",
    "from sklearn.preprocessing import OneHotEncoder,StandardScaler\n",
    "from sklearn.compose import ColumnTransformer\n",
    "from sklearn.pipeline import Pipeline\n",
    "\n",
    "# object of Column Transformer for Encoding \n",
    "ct = ColumnTransformer([\n",
    "  (\"trf1\",OneHotEncoder(sparse=False,drop='first'),['Gender','10th_board','12th_board','12th_specialization',\n",
    "                                                    'graduation_deg','Work_experience','MBA_specialization']),],\n",
    "    remainder='passthrough')\n",
    "\n",
    "# Create pipeline for data preparation\n",
    "pipe = Pipeline(steps=[\n",
    "      ('trf1',ct),\n",
    "      ('trf2',StandardScaler())\n",
    "])\n",
    "\n",
    "\n",
    "X_train_trf = pipe.fit_transform(X_train)\n",
    "X_test_trf = pipe.transform(X_test)\n",
    "X_trf = pipe.transform(X)"
   ]
  },
  {
   "cell_type": "code",
   "execution_count": null,
   "id": "8c8fa71b",
   "metadata": {},
   "outputs": [],
   "source": [
    "#data are transfromation\n",
    "print(X_train_trf, X_test_trf, y_train, y_test)"
   ]
  },
  {
   "cell_type": "code",
   "execution_count": null,
   "id": "08eadad3",
   "metadata": {},
   "outputs": [],
   "source": [
    "#shape of data are transfromation\n",
    "print(X_train_trf.shape, X_test_trf.shape, y_train.shape, y_test.shape)"
   ]
  },
  {
   "cell_type": "markdown",
   "id": "c31733a9",
   "metadata": {},
   "source": [
    "## 7. Model Training\n",
    "1. Logistic Regression\n",
    "2. Support Vector Machine\n",
    "3. Decision Tree Classifier\n",
    "4. Random Forest"
   ]
  },
  {
   "cell_type": "code",
   "execution_count": null,
   "id": "55f80ac1",
   "metadata": {},
   "outputs": [],
   "source": [
    "import sklearn\n",
    "from sklearn.model_selection import GridSearchCV,ShuffleSplit\n",
    "from sklearn.linear_model import LogisticRegression\n",
    "from sklearn.tree import DecisionTreeClassifier\n",
    "from sklearn.ensemble import RandomForestClassifier,AdaBoostClassifier\n",
    "from sklearn.naive_bayes import BernoulliNB,GaussianNB\n",
    "from sklearn.svm import SVC\n",
    "from sklearn.metrics import accuracy_score,precision_score,recall_score,f1_score,confusion_matrix\n",
    "\n",
    "model_list = [(\"lr\",LogisticRegression()),\n",
    "              (\"dt\",DecisionTreeClassifier()),\n",
    "              (\"rf\",RandomForestClassifier(max_depth=10,min_samples_split=2,n_estimators=30)),\n",
    "              (\"svm\",SVC())]\n",
    "\n",
    "# accuracy score on train dataset for all models  \n",
    "for model_name,model in model_list:\n",
    "    m = model.fit(X_train_trf,y_train)\n",
    "    y_pred = model.predict(X_train_trf)\n",
    "    print(f'{model_name} : {accuracy_score(y_train,y_pred)}')"
   ]
  },
  {
   "cell_type": "code",
   "execution_count": null,
   "id": "894fa2f1",
   "metadata": {},
   "outputs": [],
   "source": [
    "# accuracy score on test dataset for all models  \n",
    "for model_name,model in model_list:\n",
    "    m = model.fit(X_train_trf,y_train)\n",
    "    y_pred = model.predict(X_test_trf)\n",
    "    print(f'{model_name} : {accuracy_score(y_test,y_pred)}')"
   ]
  },
  {
   "cell_type": "markdown",
   "id": "387658b7",
   "metadata": {},
   "source": [
    "###### SVM"
   ]
  },
  {
   "cell_type": "code",
   "execution_count": null,
   "id": "476623b2",
   "metadata": {},
   "outputs": [],
   "source": [
    "confusion_matrix(y_test, y_pred)\n",
    "#TP=11, FP=2, FN=5, TN=25"
   ]
  },
  {
   "cell_type": "code",
   "execution_count": null,
   "id": "d7aba4a0",
   "metadata": {},
   "outputs": [],
   "source": [
    "accuracy_score(y_test, y_pred)"
   ]
  },
  {
   "cell_type": "code",
   "execution_count": null,
   "id": "c4d815d3",
   "metadata": {},
   "outputs": [],
   "source": [
    "precision_score(y_test, y_pred)\n",
    "#TP/(TP+FP)-->focuses on FP"
   ]
  },
  {
   "cell_type": "code",
   "execution_count": null,
   "id": "a9194ea5",
   "metadata": {},
   "outputs": [],
   "source": [
    "recall_score(y_test, y_pred)\n",
    "#TP/(TP+FN)-->focusses on FN"
   ]
  },
  {
   "cell_type": "code",
   "execution_count": null,
   "id": "48fc8226",
   "metadata": {},
   "outputs": [],
   "source": [
    "f1_score(y_test, y_pred)\n",
    "#if both FP and FN are equally important"
   ]
  },
  {
   "cell_type": "markdown",
   "id": "d7e56703",
   "metadata": {},
   "source": [
    "### 8. Hyperparameter Tunning"
   ]
  },
  {
   "cell_type": "code",
   "execution_count": null,
   "id": "9ab744a9",
   "metadata": {},
   "outputs": [],
   "source": [
    "algos = {\n",
    "    'rf':{\n",
    "        'model':RandomForestClassifier(),\n",
    "        'params':{\n",
    "            'n_estimators':[10,20,30,40],\n",
    "            'criterion':['gini','entropy'],\n",
    "            'max_depth':[10,20,30],\n",
    "            'min_samples_split':[2,4,6]\n",
    "        }\n",
    "    },\n",
    "    'dt':{\n",
    "        'model':DecisionTreeClassifier(),\n",
    "        'params':{\n",
    "            'criterion':['gini','entropy'],\n",
    "            'max_depth':[10,20,30],\n",
    "            'splitter':['best','random'],\n",
    "        }\n",
    "    },\n",
    "    \n",
    "    'lr':{\n",
    "        'model':LogisticRegression(),\n",
    "        'params':{\n",
    "            'penalty':['l1','l2'],\n",
    "            'C':[0.1,0.01,1,0.5],\n",
    "            'solver':['liblinear','lbfgs']\n",
    "        }\n",
    "    \n",
    "    },\n",
    "    \n",
    "    'svm':{\n",
    "        'model':SVC(),\n",
    "        'params':{\n",
    "            'C':[0.1,0.01,1,0.5],\n",
    "            'kernel':['linear','poly','rbf']\n",
    "            \n",
    "        }\n",
    "    }\n",
    "    \n",
    "}\n",
    "\n",
    "scores = []\n",
    "\n",
    "cv = ShuffleSplit(n_splits=10,test_size=0.2,random_state=42)\n",
    "\n",
    "for model_name,config in algos.items():\n",
    "   gd = GridSearchCV(estimator=config['model'],param_grid=config['params'],cv=cv,return_train_score=False)\n",
    "   gd.fit(X_trf,y)\n",
    "   scores.append({'model_name':model_name,'best_score':gd.best_score_,'best_params':gd.best_params_})\n",
    "\n",
    "scores = pd.DataFrame(scores)\n",
    "scores.head()"
   ]
  },
  {
   "cell_type": "markdown",
   "id": "7956628d",
   "metadata": {},
   "source": [
    "**END OF DOCUMENT**"
   ]
  }
 ],
 "metadata": {
  "kernelspec": {
   "display_name": "Python 3 (ipykernel)",
   "language": "python",
   "name": "python3"
  },
  "language_info": {
   "codemirror_mode": {
    "name": "ipython",
    "version": 3
   },
   "file_extension": ".py",
   "mimetype": "text/x-python",
   "name": "python",
   "nbconvert_exporter": "python",
   "pygments_lexer": "ipython3",
   "version": "3.9.15"
  }
 },
 "nbformat": 4,
 "nbformat_minor": 5
}
